{
  "cells": [
    {
      "metadata": {
        "dc": {
          "key": "4"
        },
        "deletable": false,
        "editable": false,
        "run_control": {
          "frozen": true
        },
        "tags": [
          "context"
        ],
        "id": "A7pVRy4VQUUq"
      },
      "cell_type": "markdown",
      "source": [
        "## The World Bank's international debt data\n",
        "\n",
        "<p>We are going to analyze international debt data collected by The World Bank. The dataset contains information about the amount of debt (in USD) owed by developing countries across several categories. We are going to find the answers to questions like: </p>\n",
        "<ul>\n",
        "<li>What is the total amount of debt that is owed by the countries listed in the dataset?</li>\n",
        "<li>Which country owns the maximum amount of debt and what does that amount look like?</li>\n",
        "<li>What is the average amount of debt owed by countries across different debt indicators?</li>\n",
        "</ul>"
      ]
    },
    {
      "metadata": {
        "dc": {
          "key": "4"
        },
        "tags": [
          "sample_code"
        ],
        "trusted": true,
        "id": "S1NtUqxXQUUt",
        "outputId": "76fdfb1a-7233-4f07-f4c3-cd1146c0c3dd"
      },
      "cell_type": "code",
      "source": [
        "%%sql\n",
        "postgresql:///international_debt\n",
        "\n",
        "SELECT * FROM international_debt\n",
        "LIMIT 10;\n",
        "\n",
        ""
      ],
      "execution_count": null,
      "outputs": [
        {
          "output_type": "stream",
          "text": "10 rows affected.\n",
          "name": "stdout"
        },
        {
          "output_type": "execute_result",
          "execution_count": 283,
          "data": {
            "text/plain": "[('Afghanistan', 'AFG', 'Disbursements on external debt, long-term (DIS, current US$)', 'DT.DIS.DLXF.CD', Decimal('72894453.700000003')),\n ('Afghanistan', 'AFG', 'Interest payments on external debt, long-term (INT, current US$)', 'DT.INT.DLXF.CD', Decimal('53239440.100000001')),\n ('Afghanistan', 'AFG', 'PPG, bilateral (AMT, current US$)', 'DT.AMT.BLAT.CD', Decimal('61739336.899999999')),\n ('Afghanistan', 'AFG', 'PPG, bilateral (DIS, current US$)', 'DT.DIS.BLAT.CD', Decimal('49114729.399999999')),\n ('Afghanistan', 'AFG', 'PPG, bilateral (INT, current US$)', 'DT.INT.BLAT.CD', Decimal('39903620.100000001')),\n ('Afghanistan', 'AFG', 'PPG, multilateral (AMT, current US$)', 'DT.AMT.MLAT.CD', Decimal('39107845')),\n ('Afghanistan', 'AFG', 'PPG, multilateral (DIS, current US$)', 'DT.DIS.MLAT.CD', Decimal('23779724.300000001')),\n ('Afghanistan', 'AFG', 'PPG, multilateral (INT, current US$)', 'DT.INT.MLAT.CD', Decimal('13335820')),\n ('Afghanistan', 'AFG', 'PPG, official creditors (AMT, current US$)', 'DT.AMT.OFFT.CD', Decimal('100847181.900000006')),\n ('Afghanistan', 'AFG', 'PPG, official creditors (DIS, current US$)', 'DT.DIS.OFFT.CD', Decimal('72894453.700000003'))]",
            "text/html": "<table>\n    <tr>\n        <th>country_name</th>\n        <th>country_code</th>\n        <th>indicator_name</th>\n        <th>indicator_code</th>\n        <th>debt</th>\n    </tr>\n    <tr>\n        <td>Afghanistan</td>\n        <td>AFG</td>\n        <td>Disbursements on external debt, long-term (DIS, current US$)</td>\n        <td>DT.DIS.DLXF.CD</td>\n        <td>72894453.700000003</td>\n    </tr>\n    <tr>\n        <td>Afghanistan</td>\n        <td>AFG</td>\n        <td>Interest payments on external debt, long-term (INT, current US$)</td>\n        <td>DT.INT.DLXF.CD</td>\n        <td>53239440.100000001</td>\n    </tr>\n    <tr>\n        <td>Afghanistan</td>\n        <td>AFG</td>\n        <td>PPG, bilateral (AMT, current US$)</td>\n        <td>DT.AMT.BLAT.CD</td>\n        <td>61739336.899999999</td>\n    </tr>\n    <tr>\n        <td>Afghanistan</td>\n        <td>AFG</td>\n        <td>PPG, bilateral (DIS, current US$)</td>\n        <td>DT.DIS.BLAT.CD</td>\n        <td>49114729.399999999</td>\n    </tr>\n    <tr>\n        <td>Afghanistan</td>\n        <td>AFG</td>\n        <td>PPG, bilateral (INT, current US$)</td>\n        <td>DT.INT.BLAT.CD</td>\n        <td>39903620.100000001</td>\n    </tr>\n    <tr>\n        <td>Afghanistan</td>\n        <td>AFG</td>\n        <td>PPG, multilateral (AMT, current US$)</td>\n        <td>DT.AMT.MLAT.CD</td>\n        <td>39107845</td>\n    </tr>\n    <tr>\n        <td>Afghanistan</td>\n        <td>AFG</td>\n        <td>PPG, multilateral (DIS, current US$)</td>\n        <td>DT.DIS.MLAT.CD</td>\n        <td>23779724.300000001</td>\n    </tr>\n    <tr>\n        <td>Afghanistan</td>\n        <td>AFG</td>\n        <td>PPG, multilateral (INT, current US$)</td>\n        <td>DT.INT.MLAT.CD</td>\n        <td>13335820</td>\n    </tr>\n    <tr>\n        <td>Afghanistan</td>\n        <td>AFG</td>\n        <td>PPG, official creditors (AMT, current US$)</td>\n        <td>DT.AMT.OFFT.CD</td>\n        <td>100847181.900000006</td>\n    </tr>\n    <tr>\n        <td>Afghanistan</td>\n        <td>AFG</td>\n        <td>PPG, official creditors (DIS, current US$)</td>\n        <td>DT.DIS.OFFT.CD</td>\n        <td>72894453.700000003</td>\n    </tr>\n</table>"
          },
          "metadata": {}
        }
      ]
    },
    {
      "metadata": {
        "dc": {
          "key": "12"
        },
        "deletable": false,
        "editable": false,
        "run_control": {
          "frozen": true
        },
        "tags": [
          "context"
        ],
        "id": "Wb8tcUPiQUUu"
      },
      "cell_type": "markdown",
      "source": [
        "##  Finding the number of distinct countries\n",
        "<p>From the first ten rows, we can see the amount of debt owed by <em>Afghanistan</em> in the different debt indicators. But we do not know the number of different countries we have on the table. There are repetitions in the country names because a country is most likely to have debt in more than one debt indicator. </p>\n",
        "<p>Without a count of unique countries, we will not be able to perform our statistical analyses holistically. In this section, we are going to extract the number of unique countries present in the table. </p>"
      ]
    },
    {
      "metadata": {
        "dc": {
          "key": "12"
        },
        "tags": [
          "sample_code"
        ],
        "trusted": true,
        "id": "447a6vBZQUUu",
        "outputId": "d49aa5d2-bb27-48b7-bee5-7a34818ceba8"
      },
      "cell_type": "code",
      "source": [
        "%%sql\n",
        "SELECT COUNT(DISTINCT(country_name)) AS total_distinct_countries\n",
        "FROM international_debt;"
      ],
      "execution_count": null,
      "outputs": [
        {
          "output_type": "stream",
          "text": " * postgresql:///international_debt\n1 rows affected.\n",
          "name": "stdout"
        },
        {
          "output_type": "execute_result",
          "execution_count": 285,
          "data": {
            "text/plain": "[(124,)]",
            "text/html": "<table>\n    <tr>\n        <th>total_distinct_countries</th>\n    </tr>\n    <tr>\n        <td>124</td>\n    </tr>\n</table>"
          },
          "metadata": {}
        }
      ]
    },
    {
      "metadata": {
        "dc": {
          "key": "20"
        },
        "deletable": false,
        "editable": false,
        "run_control": {
          "frozen": true
        },
        "tags": [
          "context"
        ],
        "id": "-brQX5HBQUUv"
      },
      "cell_type": "markdown",
      "source": [
        "## Finding out the distinct debt indicators\n",
        "<p>We can see there are a total of 124 countries present on the table. As we saw in the first section, there is a column called <code>indicator_name</code> that briefly specifies the purpose of taking the debt. Just beside that column, there is another column called <code>indicator_code</code> which symbolizes the category of these debts. Knowing about these various debt indicators will help us to understand the areas in which a country can possibly be indebted to. </p>"
      ]
    },
    {
      "metadata": {
        "dc": {
          "key": "20"
        },
        "tags": [
          "sample_code"
        ],
        "trusted": true,
        "id": "_S19U7i7QUUv",
        "outputId": "cd21be66-bb3a-4fdb-9c82-aa62f26d05a4"
      },
      "cell_type": "code",
      "source": [
        "%%sql\n",
        "\n",
        "SELECT DISTINCT(indicator_code) AS distinct_debt_indicators\n",
        "FROM international_debt\n",
        "ORDER BY 1;"
      ],
      "execution_count": null,
      "outputs": [
        {
          "output_type": "stream",
          "text": " * postgresql:///international_debt\n25 rows affected.\n",
          "name": "stdout"
        },
        {
          "output_type": "execute_result",
          "execution_count": 287,
          "data": {
            "text/plain": "[('DT.AMT.BLAT.CD',),\n ('DT.AMT.DLXF.CD',),\n ('DT.AMT.DPNG.CD',),\n ('DT.AMT.MLAT.CD',),\n ('DT.AMT.OFFT.CD',),\n ('DT.AMT.PBND.CD',),\n ('DT.AMT.PCBK.CD',),\n ('DT.AMT.PROP.CD',),\n ('DT.AMT.PRVT.CD',),\n ('DT.DIS.BLAT.CD',),\n ('DT.DIS.DLXF.CD',),\n ('DT.DIS.MLAT.CD',),\n ('DT.DIS.OFFT.CD',),\n ('DT.DIS.PCBK.CD',),\n ('DT.DIS.PROP.CD',),\n ('DT.DIS.PRVT.CD',),\n ('DT.INT.BLAT.CD',),\n ('DT.INT.DLXF.CD',),\n ('DT.INT.DPNG.CD',),\n ('DT.INT.MLAT.CD',),\n ('DT.INT.OFFT.CD',),\n ('DT.INT.PBND.CD',),\n ('DT.INT.PCBK.CD',),\n ('DT.INT.PROP.CD',),\n ('DT.INT.PRVT.CD',)]",
            "text/html": "<table>\n    <tr>\n        <th>distinct_debt_indicators</th>\n    </tr>\n    <tr>\n        <td>DT.AMT.BLAT.CD</td>\n    </tr>\n    <tr>\n        <td>DT.AMT.DLXF.CD</td>\n    </tr>\n    <tr>\n        <td>DT.AMT.DPNG.CD</td>\n    </tr>\n    <tr>\n        <td>DT.AMT.MLAT.CD</td>\n    </tr>\n    <tr>\n        <td>DT.AMT.OFFT.CD</td>\n    </tr>\n    <tr>\n        <td>DT.AMT.PBND.CD</td>\n    </tr>\n    <tr>\n        <td>DT.AMT.PCBK.CD</td>\n    </tr>\n    <tr>\n        <td>DT.AMT.PROP.CD</td>\n    </tr>\n    <tr>\n        <td>DT.AMT.PRVT.CD</td>\n    </tr>\n    <tr>\n        <td>DT.DIS.BLAT.CD</td>\n    </tr>\n    <tr>\n        <td>DT.DIS.DLXF.CD</td>\n    </tr>\n    <tr>\n        <td>DT.DIS.MLAT.CD</td>\n    </tr>\n    <tr>\n        <td>DT.DIS.OFFT.CD</td>\n    </tr>\n    <tr>\n        <td>DT.DIS.PCBK.CD</td>\n    </tr>\n    <tr>\n        <td>DT.DIS.PROP.CD</td>\n    </tr>\n    <tr>\n        <td>DT.DIS.PRVT.CD</td>\n    </tr>\n    <tr>\n        <td>DT.INT.BLAT.CD</td>\n    </tr>\n    <tr>\n        <td>DT.INT.DLXF.CD</td>\n    </tr>\n    <tr>\n        <td>DT.INT.DPNG.CD</td>\n    </tr>\n    <tr>\n        <td>DT.INT.MLAT.CD</td>\n    </tr>\n    <tr>\n        <td>DT.INT.OFFT.CD</td>\n    </tr>\n    <tr>\n        <td>DT.INT.PBND.CD</td>\n    </tr>\n    <tr>\n        <td>DT.INT.PCBK.CD</td>\n    </tr>\n    <tr>\n        <td>DT.INT.PROP.CD</td>\n    </tr>\n    <tr>\n        <td>DT.INT.PRVT.CD</td>\n    </tr>\n</table>"
          },
          "metadata": {}
        }
      ]
    },
    {
      "metadata": {
        "dc": {
          "key": "28"
        },
        "deletable": false,
        "editable": false,
        "run_control": {
          "frozen": true
        },
        "tags": [
          "context"
        ],
        "id": "VDFBWBDiQUUv"
      },
      "cell_type": "markdown",
      "source": [
        "##  Totaling the amount of debt owed by the countries\n",
        "\n",
        "<p>Finding out the total amount of debt (in USD) that is owed by the different countries. This will give us a sense of how the overall economy of the entire world is holding up.</p>"
      ]
    },
    {
      "metadata": {
        "dc": {
          "key": "28"
        },
        "tags": [
          "sample_code"
        ],
        "trusted": true,
        "id": "BGDeqQOPQUUv",
        "outputId": "85b6b509-c910-4771-efe0-5e30680bbdba"
      },
      "cell_type": "code",
      "source": [
        "%%sql\n",
        "SELECT\n",
        "ROUND(SUM(debt)/1000000, 2) AS total_debt\n",
        "FROM international_debt;"
      ],
      "execution_count": null,
      "outputs": [
        {
          "output_type": "stream",
          "text": " * postgresql:///international_debt\n1 rows affected.\n",
          "name": "stdout"
        },
        {
          "output_type": "execute_result",
          "execution_count": 289,
          "data": {
            "text/plain": "[(Decimal('3079734.49'),)]",
            "text/html": "<table>\n    <tr>\n        <th>total_debt</th>\n    </tr>\n    <tr>\n        <td>3079734.49</td>\n    </tr>\n</table>"
          },
          "metadata": {}
        }
      ]
    },
    {
      "metadata": {
        "dc": {
          "key": "36"
        },
        "deletable": false,
        "editable": false,
        "run_control": {
          "frozen": true
        },
        "tags": [
          "context"
        ],
        "id": "UgFr-2ZKQUUw"
      },
      "cell_type": "markdown",
      "source": [
        "## Country with the highest debt\n",
        "\n",
        "<p>Now that we have the exact total of the amounts of debt owed by several countries, let's now find out the country that owns the highest amount of debt along with the amount. Note that this debt is the sum of different debts owed by a country across several categories. This will help to understand more about the country in terms of its socio-economic scenarios. We can also find out the category in which the country owns its highest debt. </p>"
      ]
    },
    {
      "metadata": {
        "dc": {
          "key": "36"
        },
        "tags": [
          "sample_code"
        ],
        "trusted": true,
        "id": "EmMrAQ-GQUUw",
        "outputId": "d023475f-74aa-4c63-f969-36093bf44d01"
      },
      "cell_type": "code",
      "source": [
        "%%sql\n",
        "\n",
        "SELECT\n",
        "country_name , SUM(debt) AS total_debt\n",
        "FROM international_debt\n",
        "GROUP BY country_name\n",
        "ORDER BY total_debt DESC\n",
        "LIMIT 1;"
      ],
      "execution_count": null,
      "outputs": [
        {
          "output_type": "stream",
          "text": " * postgresql:///international_debt\n1 rows affected.\n",
          "name": "stdout"
        },
        {
          "output_type": "execute_result",
          "execution_count": 291,
          "data": {
            "text/plain": "[('China', Decimal('285793494734.200001568'))]",
            "text/html": "<table>\n    <tr>\n        <th>country_name</th>\n        <th>total_debt</th>\n    </tr>\n    <tr>\n        <td>China</td>\n        <td>285793494734.200001568</td>\n    </tr>\n</table>"
          },
          "metadata": {}
        }
      ]
    },
    {
      "metadata": {
        "dc": {
          "key": "44"
        },
        "deletable": false,
        "editable": false,
        "run_control": {
          "frozen": true
        },
        "tags": [
          "context"
        ],
        "id": "OV4EawLMQUUw"
      },
      "cell_type": "markdown",
      "source": [
        "## Average amount of debt across indicators\n",
        "<p>So, it was China. </p>\n"
      ]
    },
    {
      "metadata": {
        "dc": {
          "key": "44"
        },
        "tags": [
          "sample_code"
        ],
        "trusted": true,
        "id": "Est8eoGKQUUw",
        "outputId": "5a78bb88-ad65-45c4-f203-df3b82881fa3"
      },
      "cell_type": "code",
      "source": [
        "%%sql\n",
        "SELECT\n",
        "    indicator_code  AS debt_indicator,\n",
        "    indicator_name ,\n",
        "    AVG(debt) AS average_debt\n",
        "FROM international_debt\n",
        "GROUP BY debt_indicator, indicator_name\n",
        "ORDER BY average_debt DESC\n",
        "LIMIT 10;"
      ],
      "execution_count": null,
      "outputs": [
        {
          "output_type": "stream",
          "text": " * postgresql:///international_debt\n10 rows affected.\n",
          "name": "stdout"
        },
        {
          "output_type": "execute_result",
          "execution_count": 293,
          "data": {
            "text/plain": "[('DT.AMT.DLXF.CD', 'Principal repayments on external debt, long-term (AMT, current US$)', Decimal('5904868401.499193612')),\n ('DT.AMT.DPNG.CD', 'Principal repayments on external debt, private nonguaranteed (PNG) (AMT, current US$)', Decimal('5161194333.812658349')),\n ('DT.DIS.DLXF.CD', 'Disbursements on external debt, long-term (DIS, current US$)', Decimal('2152041216.890243888')),\n ('DT.DIS.OFFT.CD', 'PPG, official creditors (DIS, current US$)', Decimal('1958983452.859836046')),\n ('DT.AMT.PRVT.CD', 'PPG, private creditors (AMT, current US$)', Decimal('1803694101.963265321')),\n ('DT.INT.DLXF.CD', 'Interest payments on external debt, long-term (INT, current US$)', Decimal('1644024067.650806481')),\n ('DT.DIS.BLAT.CD', 'PPG, bilateral (DIS, current US$)', Decimal('1223139290.398230108')),\n ('DT.INT.DPNG.CD', 'Interest payments on external debt, private nonguaranteed (PNG) (INT, current US$)', Decimal('1220410844.421518983')),\n ('DT.AMT.OFFT.CD', 'PPG, official creditors (AMT, current US$)', Decimal('1191187963.083064523')),\n ('DT.AMT.PBND.CD', 'PPG, bonds (AMT, current US$)', Decimal('1082623947.653623188'))]",
            "text/html": "<table>\n    <tr>\n        <th>debt_indicator</th>\n        <th>indicator_name</th>\n        <th>average_debt</th>\n    </tr>\n    <tr>\n        <td>DT.AMT.DLXF.CD</td>\n        <td>Principal repayments on external debt, long-term (AMT, current US$)</td>\n        <td>5904868401.499193612</td>\n    </tr>\n    <tr>\n        <td>DT.AMT.DPNG.CD</td>\n        <td>Principal repayments on external debt, private nonguaranteed (PNG) (AMT, current US$)</td>\n        <td>5161194333.812658349</td>\n    </tr>\n    <tr>\n        <td>DT.DIS.DLXF.CD</td>\n        <td>Disbursements on external debt, long-term (DIS, current US$)</td>\n        <td>2152041216.890243888</td>\n    </tr>\n    <tr>\n        <td>DT.DIS.OFFT.CD</td>\n        <td>PPG, official creditors (DIS, current US$)</td>\n        <td>1958983452.859836046</td>\n    </tr>\n    <tr>\n        <td>DT.AMT.PRVT.CD</td>\n        <td>PPG, private creditors (AMT, current US$)</td>\n        <td>1803694101.963265321</td>\n    </tr>\n    <tr>\n        <td>DT.INT.DLXF.CD</td>\n        <td>Interest payments on external debt, long-term (INT, current US$)</td>\n        <td>1644024067.650806481</td>\n    </tr>\n    <tr>\n        <td>DT.DIS.BLAT.CD</td>\n        <td>PPG, bilateral (DIS, current US$)</td>\n        <td>1223139290.398230108</td>\n    </tr>\n    <tr>\n        <td>DT.INT.DPNG.CD</td>\n        <td>Interest payments on external debt, private nonguaranteed (PNG) (INT, current US$)</td>\n        <td>1220410844.421518983</td>\n    </tr>\n    <tr>\n        <td>DT.AMT.OFFT.CD</td>\n        <td>PPG, official creditors (AMT, current US$)</td>\n        <td>1191187963.083064523</td>\n    </tr>\n    <tr>\n        <td>DT.AMT.PBND.CD</td>\n        <td>PPG, bonds (AMT, current US$)</td>\n        <td>1082623947.653623188</td>\n    </tr>\n</table>"
          },
          "metadata": {}
        }
      ]
    },
    {
      "metadata": {
        "dc": {
          "key": "52"
        },
        "deletable": false,
        "editable": false,
        "run_control": {
          "frozen": true
        },
        "tags": [
          "context"
        ],
        "id": "ft_x8AH0QUUw"
      },
      "cell_type": "markdown",
      "source": [
        "## The highest amount of principal repayments\n",
        "<p>We can see that the indicator <code>DT.AMT.DLXF.CD</code> tops the chart of average debt. This category includes repayment of long term debts. Countries take on long-term debt to acquire immediate capital. </p>\n",
        "<p>An interesting observation in the above finding is that there is a huge difference in the amounts of the indicators after the second one. This indicates that the first two indicators might be the most severe categories in which the countries owe their debts.</p>\n",
        "<p>We can investigate this a bit more so as to find out which country owes the highest amount of debt in the category of long term debts (<code>DT.AMT.DLXF.CD</code>). </p>"
      ]
    },
    {
      "metadata": {
        "dc": {
          "key": "52"
        },
        "tags": [
          "sample_code"
        ],
        "trusted": true,
        "id": "ldwsvsMYQUUx",
        "outputId": "535e5351-c725-4755-d59d-b4067a6a6c48"
      },
      "cell_type": "code",
      "source": [
        "%%sql\n",
        "SELECT\n",
        "    country_name,\n",
        "    indicator_name\n",
        "FROM international_debt\n",
        "WHERE debt = (SELECT\n",
        "                 MAX(debt)\n",
        "             FROM international_debt\n",
        "             WHERE indicator_code LIKE 'DT.AMT.DLXF.CD');"
      ],
      "execution_count": null,
      "outputs": [
        {
          "output_type": "stream",
          "text": " * postgresql:///international_debt\n1 rows affected.\n",
          "name": "stdout"
        },
        {
          "output_type": "execute_result",
          "execution_count": 295,
          "data": {
            "text/plain": "[('China', 'Principal repayments on external debt, long-term (AMT, current US$)')]",
            "text/html": "<table>\n    <tr>\n        <th>country_name</th>\n        <th>indicator_name</th>\n    </tr>\n    <tr>\n        <td>China</td>\n        <td>Principal repayments on external debt, long-term (AMT, current US$)</td>\n    </tr>\n</table>"
          },
          "metadata": {}
        }
      ]
    },
    {
      "metadata": {
        "dc": {
          "key": "60"
        },
        "deletable": false,
        "editable": false,
        "run_control": {
          "frozen": true
        },
        "tags": [
          "context"
        ],
        "id": "ubSv92R2QUUx"
      },
      "cell_type": "markdown",
      "source": [
        "## The most common debt indicator\n",
        "<p>China has the highest amount of debt in the long-term debt (<code>DT.AMT.DLXF.CD</code>) category. </p>"
      ]
    },
    {
      "metadata": {
        "dc": {
          "key": "60"
        },
        "tags": [
          "sample_code"
        ],
        "trusted": true,
        "id": "awJgiWDsQUUx",
        "outputId": "c4823920-db86-4c50-a94e-89ddc79d35a9"
      },
      "cell_type": "code",
      "source": [
        "%%sql\n",
        "\n",
        "SELECT indicator_code, COUNT(indicator_code) AS indicator_count\n",
        "FROM international_debt\n",
        "GROUP BY indicator_code\n",
        "ORDER BY indicator_count DESC, indicator_code DESC\n",
        "LIMIT 20;\n"
      ],
      "execution_count": null,
      "outputs": [
        {
          "output_type": "stream",
          "text": " * postgresql:///international_debt\n20 rows affected.\n",
          "name": "stdout"
        },
        {
          "output_type": "execute_result",
          "execution_count": 297,
          "data": {
            "text/plain": "[('DT.INT.OFFT.CD', 124),\n ('DT.INT.MLAT.CD', 124),\n ('DT.INT.DLXF.CD', 124),\n ('DT.AMT.OFFT.CD', 124),\n ('DT.AMT.MLAT.CD', 124),\n ('DT.AMT.DLXF.CD', 124),\n ('DT.DIS.DLXF.CD', 123),\n ('DT.INT.BLAT.CD', 122),\n ('DT.DIS.OFFT.CD', 122),\n ('DT.AMT.BLAT.CD', 122),\n ('DT.DIS.MLAT.CD', 120),\n ('DT.DIS.BLAT.CD', 113),\n ('DT.INT.PRVT.CD', 98),\n ('DT.AMT.PRVT.CD', 98),\n ('DT.INT.PCBK.CD', 84),\n ('DT.AMT.PCBK.CD', 84),\n ('DT.INT.DPNG.CD', 79),\n ('DT.AMT.DPNG.CD', 79),\n ('DT.INT.PBND.CD', 69),\n ('DT.AMT.PBND.CD', 69)]",
            "text/html": "<table>\n    <tr>\n        <th>indicator_code</th>\n        <th>indicator_count</th>\n    </tr>\n    <tr>\n        <td>DT.INT.OFFT.CD</td>\n        <td>124</td>\n    </tr>\n    <tr>\n        <td>DT.INT.MLAT.CD</td>\n        <td>124</td>\n    </tr>\n    <tr>\n        <td>DT.INT.DLXF.CD</td>\n        <td>124</td>\n    </tr>\n    <tr>\n        <td>DT.AMT.OFFT.CD</td>\n        <td>124</td>\n    </tr>\n    <tr>\n        <td>DT.AMT.MLAT.CD</td>\n        <td>124</td>\n    </tr>\n    <tr>\n        <td>DT.AMT.DLXF.CD</td>\n        <td>124</td>\n    </tr>\n    <tr>\n        <td>DT.DIS.DLXF.CD</td>\n        <td>123</td>\n    </tr>\n    <tr>\n        <td>DT.INT.BLAT.CD</td>\n        <td>122</td>\n    </tr>\n    <tr>\n        <td>DT.DIS.OFFT.CD</td>\n        <td>122</td>\n    </tr>\n    <tr>\n        <td>DT.AMT.BLAT.CD</td>\n        <td>122</td>\n    </tr>\n    <tr>\n        <td>DT.DIS.MLAT.CD</td>\n        <td>120</td>\n    </tr>\n    <tr>\n        <td>DT.DIS.BLAT.CD</td>\n        <td>113</td>\n    </tr>\n    <tr>\n        <td>DT.INT.PRVT.CD</td>\n        <td>98</td>\n    </tr>\n    <tr>\n        <td>DT.AMT.PRVT.CD</td>\n        <td>98</td>\n    </tr>\n    <tr>\n        <td>DT.INT.PCBK.CD</td>\n        <td>84</td>\n    </tr>\n    <tr>\n        <td>DT.AMT.PCBK.CD</td>\n        <td>84</td>\n    </tr>\n    <tr>\n        <td>DT.INT.DPNG.CD</td>\n        <td>79</td>\n    </tr>\n    <tr>\n        <td>DT.AMT.DPNG.CD</td>\n        <td>79</td>\n    </tr>\n    <tr>\n        <td>DT.INT.PBND.CD</td>\n        <td>69</td>\n    </tr>\n    <tr>\n        <td>DT.AMT.PBND.CD</td>\n        <td>69</td>\n    </tr>\n</table>"
          },
          "metadata": {}
        }
      ]
    },
    {
      "metadata": {
        "dc": {
          "key": "68"
        },
        "deletable": false,
        "editable": false,
        "run_control": {
          "frozen": true
        },
        "tags": [
          "context"
        ],
        "id": "-dGWIBDJQUUx"
      },
      "cell_type": "markdown",
      "source": [
        "##  Other viable debt issues and conclusion\n",
        "<p>There are a total of six debt indicators in which all the countries listed in our dataset have taken debt. The indicator <code>DT.AMT.DLXF.CD</code> is also there in the list. So, this gives us a clue that all these countries are suffering from a common economic issue. </p>\n",
        "<p> Let's find out the maximum amount of debt across the indicators along with the respective country names. With this, we will be in a position to identify the other plausible economic issues a country might be going through.</p>\n"
      ]
    },
    {
      "metadata": {
        "dc": {
          "key": "68"
        },
        "tags": [
          "sample_code"
        ],
        "trusted": true,
        "collapsed": true,
        "id": "v_aD4kyaQUUx",
        "outputId": "c58b21b4-8951-49f4-bd9e-ea05c6b14c30"
      },
      "cell_type": "code",
      "source": [
        "%%sql\n",
        "\n",
        "SELECT country_name, indicator_name, MAX(debt) AS maximum_deb\n",
        "FROM international_debt\n",
        "GROUP BY country_name, indicator_nam\n"
      ],
      "execution_count": null,
      "outputs": [
        {
          "output_type": "stream",
          "text": "UsageError: %%sql is a cell magic, but the cell body is empty. Did you mean the line magic %sql (single %)?\n",
          "name": "stderr"
        }
      ]
    }
  ],
  "metadata": {
    "kernelspec": {
      "name": "python3",
      "display_name": "Python 3",
      "language": "python"
    },
    "language_info": {
      "name": "python",
      "version": "3.6.7",
      "mimetype": "text/x-python",
      "codemirror_mode": {
        "name": "ipython",
        "version": 3
      },
      "pygments_lexer": "ipython3",
      "nbconvert_exporter": "python",
      "file_extension": ".py"
    },
    "colab": {
      "provenance": []
    }
  },
  "nbformat": 4,
  "nbformat_minor": 0
}